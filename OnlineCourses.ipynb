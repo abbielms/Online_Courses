{
 "cells": [
  {
   "cell_type": "code",
   "execution_count": 2,
   "metadata": {},
   "outputs": [
    {
     "name": "stdout",
     "output_type": "stream",
     "text": [
      "    ll_total_hours  ll_total_minutes  ll_python_hours  ll_python_minutes  \\\n",
      "0                2                 3              2.0                3.0   \n",
      "1                2                58              2.0               58.0   \n",
      "2                3                54              3.0               54.0   \n",
      "3                6                 2              6.0                2.0   \n",
      "4                2                19              2.0               19.0   \n",
      "..             ...               ...              ...                ...   \n",
      "87               0                14              NaN                NaN   \n",
      "88               0                13              NaN                NaN   \n",
      "89               0                19              NaN                NaN   \n",
      "90               0                22              NaN                NaN   \n",
      "91               0                16              NaN                NaN   \n",
      "\n",
      "    ll_ds_hours  ll_ds_minutes  ll_sql_hours  ll_sql_minutes  ll_ml_hours  \\\n",
      "0           1.0           28.0           0.0            59.0          4.0   \n",
      "1           1.0           39.0           1.0            24.0          1.0   \n",
      "2           NaN            NaN           2.0            17.0          NaN   \n",
      "3           NaN            NaN           3.0             0.0          NaN   \n",
      "4           NaN            NaN           1.0            27.0          NaN   \n",
      "..          ...            ...           ...             ...          ...   \n",
      "87          NaN            NaN           NaN             NaN          NaN   \n",
      "88          NaN            NaN           NaN             NaN          NaN   \n",
      "89          NaN            NaN           NaN             NaN          NaN   \n",
      "90          NaN            NaN           NaN             NaN          NaN   \n",
      "91          NaN            NaN           NaN             NaN          NaN   \n",
      "\n",
      "    ll_ml_minutes  ...  ll_java_hours  ll_java_minutes  ll_pd_hours  \\\n",
      "0            14.0  ...            2.0             39.0          0.0   \n",
      "1            38.0  ...            NaN              NaN          0.0   \n",
      "2             NaN  ...            NaN              NaN          0.0   \n",
      "3             NaN  ...            NaN              NaN          0.0   \n",
      "4             NaN  ...            NaN              NaN          0.0   \n",
      "..            ...  ...            ...              ...          ...   \n",
      "87            NaN  ...            NaN              NaN          NaN   \n",
      "88            NaN  ...            NaN              NaN          NaN   \n",
      "89            NaN  ...            NaN              NaN          NaN   \n",
      "90            NaN  ...            NaN              NaN          NaN   \n",
      "91            NaN  ...            NaN              NaN          NaN   \n",
      "\n",
      "    ll_pd_minutes  ll_git_hours  ll_git_minutes  ll_office_hours  \\\n",
      "0            23.0           2.0            11.0              2.0   \n",
      "1            25.0           2.0            55.0              2.0   \n",
      "2            29.0           NaN             NaN              1.0   \n",
      "3            17.0           NaN             NaN              NaN   \n",
      "4            14.0           NaN             NaN              NaN   \n",
      "..            ...           ...             ...              ...   \n",
      "87            NaN           NaN             NaN              NaN   \n",
      "88            NaN           NaN             NaN              NaN   \n",
      "89            NaN           NaN             NaN              NaN   \n",
      "90            NaN           NaN             NaN              NaN   \n",
      "91            NaN           NaN             NaN              NaN   \n",
      "\n",
      "    ll_office_minutes  ll_matlab_hours  ll_matlab_minutes  \n",
      "0                31.0              1.0               13.0  \n",
      "1                 8.0              NaN                NaN  \n",
      "2                16.0              NaN                NaN  \n",
      "3                 NaN              NaN                NaN  \n",
      "4                 NaN              NaN                NaN  \n",
      "..                ...              ...                ...  \n",
      "87                NaN              NaN                NaN  \n",
      "88                NaN              NaN                NaN  \n",
      "89                NaN              NaN                NaN  \n",
      "90                NaN              NaN                NaN  \n",
      "91                NaN              NaN                NaN  \n",
      "\n",
      "[92 rows x 26 columns]\n"
     ]
    }
   ],
   "source": [
    "import csv\n",
    "import numpy as np\n",
    "import pandas as pd\n",
    "\n",
    "linkedin_learning_data = pd.read_csv('OnlineCourses.csv')\n",
    "print(linkedin_learning_data)"
   ]
  },
  {
   "cell_type": "code",
   "execution_count": 67,
   "metadata": {},
   "outputs": [
    {
     "name": "stdout",
     "output_type": "stream",
     "text": [
      "137\n",
      "44.13333333333334\n",
      "Total time spent completing LinkedIn Learning courses as a decimal is: 181.13\n",
      "Total time spent completing LinkedIn Learning courses in hours and minutes is: 181 hours 08 minutes\n"
     ]
    }
   ],
   "source": [
    "ll_total_hours = np.nansum(linkedin_learning_data['ll_total_hours'])\n",
    "print(ll_total_hours)\n",
    "\n",
    "ll_total_minutes_in_hours = np.nansum(linkedin_learning_data['ll_total_minutes'] / 60)\n",
    "print(ll_total_minutes_in_hours)\n",
    "\n",
    "ll_total_time = round((ll_total_hours + ll_total_minutes_in_hours), 2)\n",
    "print(f'Total time spent completing LinkedIn Learning courses as a decimal is: {ll_total_time}')\n",
    "\n",
    "ll_total_decimal_hours_in_mins = float(str(ll_total_minutes_in_hours - int(ll_total_minutes_in_hours))) * 60\n",
    "\n",
    "ll_total_hours_min_time = round((ll_total_hours + int(ll_total_minutes_in_hours) + (ll_total_decimal_hours_in_mins / 100)), 2)\n",
    "print(f'Total time spent completing LinkedIn Learning courses in hours and minutes is: {str(ll_total_hours_min_time)[:-3]} hours {str(ll_total_hours_min_time)[4:]} minutes')"
   ]
  },
  {
   "cell_type": "code",
   "execution_count": 63,
   "metadata": {},
   "outputs": [
    {
     "name": "stdout",
     "output_type": "stream",
     "text": [
      "55.0\n",
      "14.85\n",
      "Total time spent completing LinkedIn Learning courses on Python as a decimal is: 69.85\n",
      "Total time spent completing LinkedIn Learning courses on Python in hours and minutes is: 69 hours 51 minutes\n"
     ]
    }
   ],
   "source": [
    "ll_python_hours = np.nansum(linkedin_learning_data['ll_python_hours'])\n",
    "print(ll_python_hours)\n",
    "\n",
    "ll_python_minutes_in_hours = np.nansum(linkedin_learning_data['ll_python_minutes'] / 60)\n",
    "print(ll_python_minutes_in_hours)\n",
    "\n",
    "ll_python_time = round((ll_python_hours + ll_python_minutes_in_hours), 2)\n",
    "print(f'Total time spent completing LinkedIn Learning courses on Python as a decimal is: {ll_python_time}')\n",
    "\n",
    "ll_python_decimal_hours_in_mins = float(str(ll_python_minutes_in_hours - int(ll_python_minutes_in_hours))) * 60\n",
    "\n",
    "ll_python_hours_min_time = round((ll_python_hours + int(ll_python_minutes_in_hours) + (ll_python_decimal_hours_in_mins / 100)), 2)\n",
    "print(f'Total time spent completing LinkedIn Learning courses on Python in hours and minutes is: {str(ll_python_hours_min_time)[:-3]} hours {str(ll_python_hours_min_time)[3:]} minutes')"
   ]
  },
  {
   "cell_type": "code",
   "execution_count": 71,
   "metadata": {},
   "outputs": [
    {
     "name": "stdout",
     "output_type": "stream",
     "text": [
      "2.0\n",
      "1.1166666666666667\n",
      "Total time spent completing LinkedIn Learning courses on Data Science as a decimal is: 3.12\n",
      "Total time spent completing LinkedIn Learning courses on Data Science in hours and minutes is: 3 hours 07 minutes\n"
     ]
    }
   ],
   "source": [
    "ll_ds_hours = np.nansum(linkedin_learning_data['ll_ds_hours'])\n",
    "print(ll_ds_hours)\n",
    "\n",
    "ll_ds_minutes_in_hours = np.nansum(linkedin_learning_data['ll_ds_minutes'] / 60)\n",
    "print(ll_ds_minutes_in_hours)\n",
    "\n",
    "ll_ds_time = round((ll_ds_hours + ll_ds_minutes_in_hours), 2)\n",
    "print(f'Total time spent completing LinkedIn Learning courses on Data Science as a decimal is: {ll_ds_time}')\n",
    "\n",
    "ll_ds_decimal_hours_in_mins = float(str(ll_ds_minutes_in_hours - int(ll_ds_minutes_in_hours))) * 60\n",
    "\n",
    "ll_ds_hours_min_time = round((ll_ds_hours + int(ll_ds_minutes_in_hours) + (ll_ds_decimal_hours_in_mins / 100)), 2)\n",
    "print(f'Total time spent completing LinkedIn Learning courses on Data Science in hours and minutes is: {str(ll_ds_hours_min_time)[:-3]} hours {str(ll_ds_hours_min_time)[2:]} minutes')"
   ]
  },
  {
   "cell_type": "code",
   "execution_count": 74,
   "metadata": {},
   "outputs": [
    {
     "name": "stdout",
     "output_type": "stream",
     "text": [
      "7.0\n",
      "2.1166666666666667\n",
      "Total time spent completing LinkedIn Learning courses on SQL as a decimal is: 9.12\n",
      "Total time spent completing LinkedIn Learning courses on SQL in hours and minutes is: 9 hours 07 minutes\n"
     ]
    }
   ],
   "source": [
    "ll_sql_hours = np.nansum(linkedin_learning_data['ll_sql_hours'])\n",
    "print(ll_sql_hours)\n",
    "\n",
    "ll_sql_minutes_in_hours = np.nansum(linkedin_learning_data['ll_sql_minutes'] / 60)\n",
    "print(ll_sql_minutes_in_hours)\n",
    "\n",
    "ll_sql_time = round((ll_sql_hours + ll_sql_minutes_in_hours), 2)\n",
    "print(f'Total time spent completing LinkedIn Learning courses on SQL as a decimal is: {ll_sql_time}')\n",
    "\n",
    "ll_sql_decimal_hours_in_mins = float(str(ll_sql_minutes_in_hours - int(ll_sql_minutes_in_hours))) * 60\n",
    "\n",
    "ll_sql_hours_min_time = round((ll_sql_hours + int(ll_sql_minutes_in_hours) + (ll_sql_decimal_hours_in_mins / 100)), 2)\n",
    "print(f'Total time spent completing LinkedIn Learning courses on SQL in hours and minutes is: {str(ll_sql_hours_min_time)[:-3]} hours {str(ll_sql_hours_min_time)[2:]} minutes')"
   ]
  },
  {
   "cell_type": "code",
   "execution_count": 75,
   "metadata": {},
   "outputs": [
    {
     "name": "stdout",
     "output_type": "stream",
     "text": [
      "5.87\n",
      "5.0\n",
      "0.8666666666666667\n",
      "Total time spent completing LinkedIn Learning courses on Machine Learning as a decimal is: 5.87\n",
      "Total time spent completing LinkedIn Learning courses on Machine Learning in hours and minutes is: 5 hours 52 minutes\n"
     ]
    }
   ],
   "source": [
    "ll_ml_hours = np.nansum(linkedin_learning_data['ll_ml_hours'])\n",
    "print(ll_ml_hours)\n",
    "\n",
    "ll_ml_minutes_in_hours = np.nansum(linkedin_learning_data['ll_ml_minutes'] / 60)\n",
    "print(ll_ml_minutes_in_hours)\n",
    "\n",
    "ll_ml_time = round((ll_ml_hours + ll_ml_minutes_in_hours), 2)\n",
    "print(f'Total time spent completing LinkedIn Learning courses on Machine Learning as a decimal is: {ll_ml_time}')\n",
    "\n",
    "ll_ml_decimal_hours_in_mins = float(str(ll_ml_minutes_in_hours - int(ll_ml_minutes_in_hours))) * 60\n",
    "\n",
    "ll_ml_hours_min_time = round((ll_ml_hours + int(ll_ml_minutes_in_hours) + (ll_ml_decimal_hours_in_mins / 100)), 2)\n",
    "print(f'Total time spent completing LinkedIn Learning courses on Machine Learning in hours and minutes is: {str(ll_ml_hours_min_time)[:-3]} hours {str(ll_ml_hours_min_time)[2:]} minutes')"
   ]
  },
  {
   "cell_type": "code",
   "execution_count": 77,
   "metadata": {},
   "outputs": [
    {
     "name": "stdout",
     "output_type": "stream",
     "text": [
      "30.25\n",
      "22.0\n",
      "8.25\n",
      "Total time spent completing LinkedIn Learning courses on General Programming as a decimal is: 30.25\n",
      "Total time spent completing LinkedIn Learning courses on General Programming in hours and minutes is: 30 hours 15 minutes\n"
     ]
    }
   ],
   "source": [
    "ll_programming_hours = np.nansum(linkedin_learning_data['ll_programming_hours'])\n",
    "print(ll_programming_hours)\n",
    "\n",
    "ll_programming_minutes_in_hours = np.nansum(linkedin_learning_data['ll_programming_minutes'] / 60)\n",
    "print(ll_programming_minutes_in_hours)\n",
    "\n",
    "ll_programming_time = round((ll_programming_hours + ll_programming_minutes_in_hours), 2)\n",
    "print(f'Total time spent completing LinkedIn Learning courses on General Programming as a decimal is: {ll_programming_time}')\n",
    "\n",
    "ll_programming_decimal_hours_in_mins = float(str(ll_programming_minutes_in_hours - int(ll_programming_minutes_in_hours))) * 60\n",
    "\n",
    "ll_programming_hours_min_time = round((ll_programming_hours + int(ll_programming_minutes_in_hours) + (ll_programming_decimal_hours_in_mins / 100)), 2)\n",
    "print(f'Total time spent completing LinkedIn Learning courses on General Programming in hours and minutes is: {str(ll_programming_hours_min_time)[:-3]} hours {str(ll_programming_hours_min_time)[3:]} minutes')"
   ]
  },
  {
   "cell_type": "code",
   "execution_count": 78,
   "metadata": {},
   "outputs": [
    {
     "name": "stdout",
     "output_type": "stream",
     "text": [
      "28.45\n",
      "23.0\n",
      "5.449999999999999\n",
      "Total time spent completing LinkedIn Learning courses on HTML & CSS as a decimal is: 28.45\n",
      "Total time spent completing LinkedIn Learning courses on HTML & CSS in hours and minutes is: 28 hours 27 minutes\n"
     ]
    }
   ],
   "source": [
    "ll_htmlcss_hours = np.nansum(linkedin_learning_data['ll_htmlcss_hours'])\n",
    "print(ll_htmlcss_hours)\n",
    "\n",
    "ll_htmlcss_minutes_in_hours = np.nansum(linkedin_learning_data['ll_htmlcss_minutes'] / 60)\n",
    "print(ll_htmlcss_minutes_in_hours)\n",
    "\n",
    "ll_htmlcss_time = round((ll_htmlcss_hours + ll_htmlcss_minutes_in_hours), 2)\n",
    "print(f'Total time spent completing LinkedIn Learning courses on HTML & CSS as a decimal is: {ll_htmlcss_time}')\n",
    "\n",
    "ll_htmlcss_decimal_hours_in_mins = float(str(ll_htmlcss_minutes_in_hours - int(ll_htmlcss_minutes_in_hours))) * 60\n",
    "\n",
    "ll_htmlcss_hours_min_time = round((ll_htmlcss_hours + int(ll_htmlcss_minutes_in_hours) + (ll_htmlcss_decimal_hours_in_mins / 100)), 2)\n",
    "print(f'Total time spent completing LinkedIn Learning courses on HTML & CSS in hours and minutes is: {str(ll_htmlcss_hours_min_time)[:-3]} hours {str(ll_htmlcss_hours_min_time)[3:]} minutes')"
   ]
  },
  {
   "cell_type": "code",
   "execution_count": 79,
   "metadata": {},
   "outputs": [
    {
     "name": "stdout",
     "output_type": "stream",
     "text": [
      "16.63\n",
      "11.0\n",
      "5.633333333333333\n",
      "Total time spent completing LinkedIn Learning courses on JavaScript as a decimal is: 16.63\n",
      "Total time spent completing LinkedIn Learning courses on JavaScript in hours and minutes is: 16 hours 38 minutes\n"
     ]
    }
   ],
   "source": [
    "ll_javascript_hours = np.nansum(linkedin_learning_data['ll_javascript_hours'])\n",
    "print(ll_javascript_hours)\n",
    "\n",
    "ll_javascript_minutes_in_hours = np.nansum(linkedin_learning_data['ll_javascript_minutes'] / 60)\n",
    "print(ll_javascript_minutes_in_hours)\n",
    "\n",
    "ll_javascript_time = round((ll_javascript_hours + ll_javascript_minutes_in_hours), 2)\n",
    "print(f'Total time spent completing LinkedIn Learning courses on JavaScript as a decimal is: {ll_javascript_time}')\n",
    "\n",
    "ll_javascript_decimal_hours_in_mins = float(str(ll_javascript_minutes_in_hours - int(ll_javascript_minutes_in_hours))) * 60\n",
    "\n",
    "ll_javascript_hours_min_time = round((ll_javascript_hours + int(ll_javascript_minutes_in_hours) + (ll_javascript_decimal_hours_in_mins / 100)), 2)\n",
    "print(f'Total time spent completing LinkedIn Learning courses on JavaScript in hours and minutes is: {str(ll_javascript_hours_min_time)[:-3]} hours {str(ll_javascript_hours_min_time)[3:]} minutes')"
   ]
  },
  {
   "cell_type": "code",
   "execution_count": 82,
   "metadata": {},
   "outputs": [
    {
     "name": "stdout",
     "output_type": "stream",
     "text": [
      "2.65\n",
      "2.0\n",
      "0.65\n",
      "Total time spent completing LinkedIn Learning courses on Java as a decimal is: 2.65\n",
      "Total time spent completing LinkedIn Learning courses on Java in hours and minutes is: 2 hours 39 minutes\n"
     ]
    }
   ],
   "source": [
    "ll_java_hours = np.nansum(linkedin_learning_data['ll_java_hours'])\n",
    "print(ll_java_hours)\n",
    "\n",
    "ll_java_minutes_in_hours = np.nansum(linkedin_learning_data['ll_java_minutes'] / 60)\n",
    "print(ll_java_minutes_in_hours)\n",
    "\n",
    "ll_java_time = round((ll_java_hours + ll_java_minutes_in_hours), 2)\n",
    "print(f'Total time spent completing LinkedIn Learning courses on Java as a decimal is: {ll_java_time}')\n",
    "\n",
    "ll_java_decimal_hours_in_mins = float(str(ll_java_minutes_in_hours - int(ll_java_minutes_in_hours))) * 60\n",
    "\n",
    "ll_java_hours_min_time = round((ll_java_hours + int(ll_java_minutes_in_hours) + (ll_java_decimal_hours_in_mins / 100)), 2)\n",
    "print(f'Total time spent completing LinkedIn Learning courses on Java in hours and minutes is: {str(ll_java_hours_min_time)[:-3]} hours {str(ll_java_hours_min_time)[2:]} minutes')"
   ]
  },
  {
   "cell_type": "code",
   "execution_count": 84,
   "metadata": {},
   "outputs": [
    {
     "name": "stdout",
     "output_type": "stream",
     "text": [
      "0.0\n",
      "2.966666666666667\n",
      "Total time spent completing LinkedIn Learning courses on Personal Development as a decimal is: 2.97\n",
      "Total time spent completing LinkedIn Learning courses on Personal Development in hours and minutes is: 2 hours 58 minutes\n"
     ]
    }
   ],
   "source": [
    "ll_pd_hours = np.nansum(linkedin_learning_data['ll_pd_hours'])\n",
    "print(ll_pd_hours)\n",
    "\n",
    "ll_pd_minutes_in_hours = np.nansum(linkedin_learning_data['ll_pd_minutes'] / 60)\n",
    "print(ll_pd_minutes_in_hours)\n",
    "\n",
    "ll_pd_time = round((ll_pd_hours + ll_pd_minutes_in_hours), 2)\n",
    "print(f'Total time spent completing LinkedIn Learning courses on Personal Development as a decimal is: {ll_pd_time}')\n",
    "\n",
    "ll_pd_decimal_hours_in_mins = float(str(ll_pd_minutes_in_hours - int(ll_pd_minutes_in_hours))) * 60\n",
    "\n",
    "ll_pd_hours_min_time = round((ll_pd_hours + int(ll_pd_minutes_in_hours) + (ll_pd_decimal_hours_in_mins / 100)), 2)\n",
    "print(f'Total time spent completing LinkedIn Learning courses on Personal Development in hours and minutes is: {str(ll_pd_hours_min_time)[:-3]} hours {str(ll_pd_hours_min_time)[2:]} minutes')"
   ]
  },
  {
   "cell_type": "code",
   "execution_count": 86,
   "metadata": {},
   "outputs": [
    {
     "name": "stdout",
     "output_type": "stream",
     "text": [
      "4.0\n",
      "1.0999999999999999\n",
      "Total time spent completing LinkedIn Learning courses on Git as a decimal is: 5.1\n",
      "Total time spent completing LinkedIn Learning courses on Git in hours and minutes is: 5 hours 06 minutes\n"
     ]
    }
   ],
   "source": [
    "ll_git_hours = np.nansum(linkedin_learning_data['ll_git_hours'])\n",
    "print(ll_git_hours)\n",
    "\n",
    "ll_git_minutes_in_hours = np.nansum(linkedin_learning_data['ll_git_minutes'] / 60)\n",
    "print(ll_git_minutes_in_hours)\n",
    "\n",
    "ll_git_time = round((ll_git_hours + ll_git_minutes_in_hours), 2)\n",
    "print(f'Total time spent completing LinkedIn Learning courses on Git as a decimal is: {ll_git_time}')\n",
    "\n",
    "ll_git_decimal_hours_in_mins = float(str(ll_git_minutes_in_hours - int(ll_git_minutes_in_hours))) * 60\n",
    "\n",
    "ll_git_hours_min_time = round((ll_git_hours + int(ll_git_minutes_in_hours) + (ll_git_decimal_hours_in_mins / 100)), 2)\n",
    "print(f'Total time spent completing LinkedIn Learning courses on Git in hours and minutes is: {str(ll_git_hours_min_time)[:-3]} hours {str(ll_git_hours_min_time)[2:]} minutes')"
   ]
  },
  {
   "cell_type": "code",
   "execution_count": 88,
   "metadata": {},
   "outputs": [
    {
     "name": "stdout",
     "output_type": "stream",
     "text": [
      "5.0\n",
      "0.9166666666666667\n",
      "Total time spent completing LinkedIn Learning courses on Microsoft Word, Excel and PowerPoint as a decimal is: 5.92\n",
      "Total time spent completing LinkedIn Learning courses on Microsoft Word, Excel and PowerPoint in hours and minutes is: 5 hours 55 minutes\n"
     ]
    }
   ],
   "source": [
    "ll_office_hours = np.nansum(linkedin_learning_data['ll_office_hours'])\n",
    "print(ll_office_hours)\n",
    "\n",
    "ll_office_minutes_in_hours = np.nansum(linkedin_learning_data['ll_office_minutes'] / 60)\n",
    "print(ll_office_minutes_in_hours)\n",
    "\n",
    "ll_office_time = round((ll_office_hours + ll_office_minutes_in_hours), 2)\n",
    "print(f'Total time spent completing LinkedIn Learning courses on Microsoft Word, Excel and PowerPoint as a decimal is: {ll_office_time}')\n",
    "\n",
    "ll_office_decimal_hours_in_mins = float(str(ll_office_minutes_in_hours - int(ll_office_minutes_in_hours))) * 60\n",
    "\n",
    "ll_office_hours_min_time = round((ll_office_hours + int(ll_office_minutes_in_hours) + (ll_office_decimal_hours_in_mins / 100)), 2)\n",
    "print(f'Total time spent completing LinkedIn Learning courses on Microsoft Word, Excel and PowerPoint in hours and minutes is: {str(ll_office_hours_min_time)[:-3]} hours {str(ll_office_hours_min_time)[2:]} minutes')"
   ]
  },
  {
   "cell_type": "code",
   "execution_count": 90,
   "metadata": {},
   "outputs": [
    {
     "name": "stdout",
     "output_type": "stream",
     "text": [
      "1.0\n",
      "0.21666666666666667\n",
      "Total time spent completing LinkedIn Learning courses on MATLAB as a decimal is: 1.22\n",
      "Total time spent completing LinkedIn Learning courses on MATLAB in hours and minutes is: 1 hours 13 minutes\n"
     ]
    }
   ],
   "source": [
    "ll_matlab_hours = np.nansum(linkedin_learning_data['ll_matlab_hours'])\n",
    "print(ll_matlab_hours)\n",
    "\n",
    "ll_matlab_minutes_in_hours = np.nansum(linkedin_learning_data['ll_matlab_minutes'] / 60)\n",
    "print(ll_matlab_minutes_in_hours)\n",
    "\n",
    "ll_matlab_time = round((ll_matlab_hours + ll_matlab_minutes_in_hours), 2)\n",
    "print(f'Total time spent completing LinkedIn Learning courses on MATLAB as a decimal is: {ll_matlab_time}')\n",
    "\n",
    "ll_matlab_decimal_hours_in_mins = float(str(ll_matlab_minutes_in_hours - int(ll_matlab_minutes_in_hours))) * 60\n",
    "\n",
    "ll_matlab_hours_min_time = round((ll_matlab_hours + int(ll_matlab_minutes_in_hours) + (ll_matlab_decimal_hours_in_mins / 100)), 2)\n",
    "print(f'Total time spent completing LinkedIn Learning courses on MATLAB in hours and minutes is: {str(ll_matlab_hours_min_time)[:-3]} hours {str(ll_matlab_hours_min_time)[2:]} minutes')"
   ]
  },
  {
   "cell_type": "code",
   "execution_count": null,
   "metadata": {},
   "outputs": [],
   "source": []
  }
 ],
 "metadata": {
  "kernelspec": {
   "display_name": "Python 3",
   "language": "python",
   "name": "python3"
  },
  "language_info": {
   "codemirror_mode": {
    "name": "ipython",
    "version": 3
   },
   "file_extension": ".py",
   "mimetype": "text/x-python",
   "name": "python",
   "nbconvert_exporter": "python",
   "pygments_lexer": "ipython3",
   "version": "3.7.6"
  }
 },
 "nbformat": 4,
 "nbformat_minor": 4
}
