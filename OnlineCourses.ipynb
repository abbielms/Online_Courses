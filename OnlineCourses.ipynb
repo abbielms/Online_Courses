{
 "cells": [
  {
   "cell_type": "code",
   "execution_count": 25,
   "metadata": {},
   "outputs": [
    {
     "name": "stdout",
     "output_type": "stream",
     "text": [
      "    ll_total_hours  ll_total_minutes  ll_python_hours  ll_python_minutes  \\\n",
      "0                2                 3              2.0                3.0   \n",
      "1                2                58              2.0               58.0   \n",
      "2                3                54              3.0               54.0   \n",
      "3                6                 2              6.0                2.0   \n",
      "4                2                19              2.0               19.0   \n",
      "..             ...               ...              ...                ...   \n",
      "87               0                14              NaN                NaN   \n",
      "88               0                13              NaN                NaN   \n",
      "89               0                19              NaN                NaN   \n",
      "90               0                22              NaN                NaN   \n",
      "91               0                16              NaN                NaN   \n",
      "\n",
      "    ll_ds_hours  ll_ds_minutes  ll_sql_hours  ll_sql_minutes  ll_ml_hours  \\\n",
      "0           1.0           28.0           0.0            59.0          4.0   \n",
      "1           1.0           39.0           1.0            24.0          1.0   \n",
      "2           NaN            NaN           2.0            17.0          NaN   \n",
      "3           NaN            NaN           3.0             0.0          NaN   \n",
      "4           NaN            NaN           1.0            27.0          NaN   \n",
      "..          ...            ...           ...             ...          ...   \n",
      "87          NaN            NaN           NaN             NaN          NaN   \n",
      "88          NaN            NaN           NaN             NaN          NaN   \n",
      "89          NaN            NaN           NaN             NaN          NaN   \n",
      "90          NaN            NaN           NaN             NaN          NaN   \n",
      "91          NaN            NaN           NaN             NaN          NaN   \n",
      "\n",
      "    ll_ml_minutes  ...  ll_java_hours  ll_java_minutes  ll_pd_hours  \\\n",
      "0            14.0  ...            2.0             39.0          0.0   \n",
      "1            38.0  ...            NaN              NaN          0.0   \n",
      "2             NaN  ...            NaN              NaN          0.0   \n",
      "3             NaN  ...            NaN              NaN          0.0   \n",
      "4             NaN  ...            NaN              NaN          0.0   \n",
      "..            ...  ...            ...              ...          ...   \n",
      "87            NaN  ...            NaN              NaN          NaN   \n",
      "88            NaN  ...            NaN              NaN          NaN   \n",
      "89            NaN  ...            NaN              NaN          NaN   \n",
      "90            NaN  ...            NaN              NaN          NaN   \n",
      "91            NaN  ...            NaN              NaN          NaN   \n",
      "\n",
      "    ll_pd_minutes  ll_git_hours  ll_git_minutes  ll_office_hours  \\\n",
      "0            23.0           2.0            11.0              2.0   \n",
      "1            25.0           2.0            55.0              2.0   \n",
      "2            29.0           NaN             NaN              1.0   \n",
      "3            17.0           NaN             NaN              NaN   \n",
      "4            14.0           NaN             NaN              NaN   \n",
      "..            ...           ...             ...              ...   \n",
      "87            NaN           NaN             NaN              NaN   \n",
      "88            NaN           NaN             NaN              NaN   \n",
      "89            NaN           NaN             NaN              NaN   \n",
      "90            NaN           NaN             NaN              NaN   \n",
      "91            NaN           NaN             NaN              NaN   \n",
      "\n",
      "    ll_office_minutes  ll_matlab_hours  ll_matlab_minutes  \n",
      "0                31.0              1.0               13.0  \n",
      "1                 8.0              NaN                NaN  \n",
      "2                16.0              NaN                NaN  \n",
      "3                 NaN              NaN                NaN  \n",
      "4                 NaN              NaN                NaN  \n",
      "..                ...              ...                ...  \n",
      "87                NaN              NaN                NaN  \n",
      "88                NaN              NaN                NaN  \n",
      "89                NaN              NaN                NaN  \n",
      "90                NaN              NaN                NaN  \n",
      "91                NaN              NaN                NaN  \n",
      "\n",
      "[92 rows x 26 columns]\n"
     ]
    }
   ],
   "source": [
    "import csv\n",
    "import numpy as np\n",
    "import pandas as pd\n",
    "\n",
    "linkedin_learning_data = pd.read_csv('OnlineCourses.csv')\n",
    "print(linkedin_learning_data)"
   ]
  },
  {
   "cell_type": "code",
   "execution_count": 30,
   "metadata": {},
   "outputs": [
    {
     "name": "stdout",
     "output_type": "stream",
     "text": [
      "181.13\n"
     ]
    }
   ],
   "source": [
    "ll_total_hours = sum(linkedin_learning_data['ll_total_hours'])\n",
    "ll_total_minutes = sum(linkedin_learning_data['ll_total_minutes'] / 60)\n",
    "ll_total_time = round((ll_total_hours + ll_total_minutes), 2)\n",
    "\n",
    "print(ll_total_time)"
   ]
  },
  {
   "cell_type": "code",
   "execution_count": 31,
   "metadata": {},
   "outputs": [
    {
     "name": "stdout",
     "output_type": "stream",
     "text": [
      "69.85\n"
     ]
    }
   ],
   "source": [
    "ll_python_hours = np.nansum(linkedin_learning_data['ll_python_hours'])\n",
    "ll_python_minutes = np.nansum(linkedin_learning_data['ll_python_minutes'] / 60)\n",
    "ll_python_time = round((ll_python_hours + ll_python_minutes), 2)\n",
    "\n",
    "print(ll_python_time)"
   ]
  },
  {
   "cell_type": "code",
   "execution_count": 32,
   "metadata": {},
   "outputs": [
    {
     "name": "stdout",
     "output_type": "stream",
     "text": [
      "3.12\n"
     ]
    }
   ],
   "source": [
    "ll_ds_hours = np.nansum(linkedin_learning_data['ll_ds_hours'])\n",
    "ll_ds_minutes = np.nansum(linkedin_learning_data['ll_ds_minutes'] / 60)\n",
    "ll_ds_time = round((ll_ds_hours + ll_ds_minutes), 2)\n",
    "\n",
    "print(ll_ds_time)"
   ]
  },
  {
   "cell_type": "code",
   "execution_count": 34,
   "metadata": {},
   "outputs": [
    {
     "name": "stdout",
     "output_type": "stream",
     "text": [
      "9.12\n"
     ]
    }
   ],
   "source": [
    "ll_sql_hours = np.nansum(linkedin_learning_data['ll_sql_hours'])\n",
    "ll_sql_minutes = np.nansum(linkedin_learning_data['ll_sql_minutes'] / 60)\n",
    "ll_sql_time = round((ll_sql_hours + ll_sql_minutes), 2)\n",
    "\n",
    "print(ll_sql_time)"
   ]
  },
  {
   "cell_type": "code",
   "execution_count": 36,
   "metadata": {},
   "outputs": [
    {
     "name": "stdout",
     "output_type": "stream",
     "text": [
      "5.87\n"
     ]
    }
   ],
   "source": [
    "ll_ml_hours = np.nansum(linkedin_learning_data['ll_ml_hours'])\n",
    "ll_ml_minutes = np.nansum(linkedin_learning_data['ll_ml_minutes'] / 60)\n",
    "ll_ml_time = round((ll_ml_hours + ll_ml_minutes), 2)\n",
    "\n",
    "print(ll_ml_time)"
   ]
  },
  {
   "cell_type": "code",
   "execution_count": 37,
   "metadata": {},
   "outputs": [
    {
     "name": "stdout",
     "output_type": "stream",
     "text": [
      "30.25\n"
     ]
    }
   ],
   "source": [
    "ll_programming_hours = np.nansum(linkedin_learning_data['ll_programming_hours'])\n",
    "ll_programming_minutes = np.nansum(linkedin_learning_data['ll_programming_minutes'] / 60)\n",
    "ll_programming_time = round((ll_programming_hours + ll_programming_minutes), 2)\n",
    "\n",
    "print(ll_programming_time)"
   ]
  },
  {
   "cell_type": "code",
   "execution_count": 38,
   "metadata": {},
   "outputs": [
    {
     "name": "stdout",
     "output_type": "stream",
     "text": [
      "28.45\n"
     ]
    }
   ],
   "source": [
    "ll_htmlcss_hours = np.nansum(linkedin_learning_data['ll_htmlcss_hours'])\n",
    "ll_htmlcss_minutes = np.nansum(linkedin_learning_data['ll_htmlcss_minutes'] / 60)\n",
    "ll_htmlcss_time = round((ll_htmlcss_hours + ll_htmlcss_minutes), 2)\n",
    "\n",
    "print(ll_htmlcss_time)"
   ]
  },
  {
   "cell_type": "code",
   "execution_count": 39,
   "metadata": {},
   "outputs": [
    {
     "name": "stdout",
     "output_type": "stream",
     "text": [
      "16.63\n"
     ]
    }
   ],
   "source": [
    "ll_javascript_hours = np.nansum(linkedin_learning_data['ll_javascript_hours'])\n",
    "ll_javascript_minutes = np.nansum(linkedin_learning_data['ll_javascript_minutes'] / 60)\n",
    "ll_javascript_time = round((ll_javascript_hours + ll_javascript_minutes), 2)\n",
    "\n",
    "print(ll_javascript_time)"
   ]
  },
  {
   "cell_type": "code",
   "execution_count": 40,
   "metadata": {},
   "outputs": [
    {
     "name": "stdout",
     "output_type": "stream",
     "text": [
      "2.65\n"
     ]
    }
   ],
   "source": [
    "ll_java_hours = np.nansum(linkedin_learning_data['ll_java_hours'])\n",
    "ll_java_minutes = np.nansum(linkedin_learning_data['ll_java_minutes'] / 60)\n",
    "ll_java_time = round((ll_java_hours + ll_java_minutes), 2)\n",
    "\n",
    "print(ll_java_time)"
   ]
  },
  {
   "cell_type": "code",
   "execution_count": 42,
   "metadata": {},
   "outputs": [
    {
     "name": "stdout",
     "output_type": "stream",
     "text": [
      "2.97\n"
     ]
    }
   ],
   "source": [
    "ll_pd_hours = np.nansum(linkedin_learning_data['ll_pd_hours'])\n",
    "ll_pd_minutes = np.nansum(linkedin_learning_data['ll_pd_minutes'] / 60)\n",
    "ll_pd_time = round((ll_pd_hours + ll_pd_minutes), 2)\n",
    "\n",
    "print(ll_pd_time)"
   ]
  },
  {
   "cell_type": "code",
   "execution_count": 43,
   "metadata": {},
   "outputs": [
    {
     "name": "stdout",
     "output_type": "stream",
     "text": [
      "5.1\n"
     ]
    }
   ],
   "source": [
    "ll_git_hours = np.nansum(linkedin_learning_data['ll_git_hours'])\n",
    "ll_git_minutes = np.nansum(linkedin_learning_data['ll_git_minutes'] / 60)\n",
    "ll_git_time = round((ll_git_hours + ll_git_minutes), 2)\n",
    "\n",
    "print(ll_git_time)"
   ]
  },
  {
   "cell_type": "code",
   "execution_count": 44,
   "metadata": {},
   "outputs": [
    {
     "name": "stdout",
     "output_type": "stream",
     "text": [
      "5.92\n"
     ]
    }
   ],
   "source": [
    "ll_office_hours = np.nansum(linkedin_learning_data['ll_office_hours'])\n",
    "ll_office_minutes = np.nansum(linkedin_learning_data['ll_office_minutes'] / 60)\n",
    "ll_office_time = round((ll_office_hours + ll_office_minutes), 2)\n",
    "\n",
    "print(ll_office_time)"
   ]
  },
  {
   "cell_type": "code",
   "execution_count": 45,
   "metadata": {},
   "outputs": [
    {
     "name": "stdout",
     "output_type": "stream",
     "text": [
      "1.22\n"
     ]
    }
   ],
   "source": [
    "ll_matlab_hours = np.nansum(linkedin_learning_data['ll_matlab_hours'])\n",
    "ll_matlab_minutes = np.nansum(linkedin_learning_data['ll_matlab_minutes'] / 60)\n",
    "ll_matlab_time = round((ll_matlab_hours + ll_matlab_minutes), 2)\n",
    "\n",
    "print(ll_matlab_time)"
   ]
  },
  {
   "cell_type": "code",
   "execution_count": null,
   "metadata": {},
   "outputs": [],
   "source": []
  }
 ],
 "metadata": {
  "kernelspec": {
   "display_name": "Python 3",
   "language": "python",
   "name": "python3"
  },
  "language_info": {
   "codemirror_mode": {
    "name": "ipython",
    "version": 3
   },
   "file_extension": ".py",
   "mimetype": "text/x-python",
   "name": "python",
   "nbconvert_exporter": "python",
   "pygments_lexer": "ipython3",
   "version": "3.7.6"
  }
 },
 "nbformat": 4,
 "nbformat_minor": 4
}
